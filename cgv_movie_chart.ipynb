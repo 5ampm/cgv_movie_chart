{
  "nbformat": 4,
  "nbformat_minor": 0,
  "metadata": {
    "colab": {
      "provenance": []
    },
    "kernelspec": {
      "name": "python3",
      "display_name": "Python 3"
    },
    "language_info": {
      "name": "python"
    }
  },
  "cells": [
    {
      "cell_type": "code",
      "source": [
        "import requests\n",
        "from bs4 import BeautifulSoup\n",
        "\n",
        "r= requests.get(\"http://www.cgv.co.kr/movies/?ft=0\")\n",
        "c = r.content\n",
        "\n",
        "html= BeautifulSoup(c, \"html.parser\")\n",
        "\n",
        "ol= html.find(\"ol\")\n",
        "li= ol.find_all(\"li\")\n",
        "\n",
        "for l in li:\n",
        "  div= l.find(\"div\", {\"class\" : \"box-contents\"})\n",
        "  strong= div.find(\"strong\").text\n",
        "  print(strong)"
      ],
      "metadata": {
        "colab": {
          "base_uri": "https://localhost:8080/"
        },
        "id": "v0NOcPnBlGeP",
        "outputId": "568b1abe-09b4-4c50-d2bc-b52bd419d6f2"
      },
      "execution_count": 1,
      "outputs": [
        {
          "output_type": "stream",
          "name": "stdout",
          "text": [
            "탈출-프로젝트 사일런스\n",
            "탈주\n",
            "인사이드 아웃 2\n"
          ]
        }
      ]
    },
    {
      "cell_type": "code",
      "source": [],
      "metadata": {
        "id": "NCzig5b-mMpo"
      },
      "execution_count": null,
      "outputs": []
    }
  ]
}